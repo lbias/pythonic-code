{
  "cells": [
    {
      "cell_type": "code",
      "source": [
        "%run c28_the_key_to_the_arguments"
      ],
      "outputs": [
        {
          "output_type": "stream",
          "name": "stdout",
          "text": [
            "Hey, you're out of order Michael!\n",
            "kwargs = {'additional': 2, 'mode': 7}\n",
            "\n",
            "Long time no see bro! Ted!\n",
            "Long time no see bro! Ted!\n",
            "Long time no see bro! Ted!\n",
            "Long time no see bro! Ted!\n",
            "Long time no see bro! Ted!\n",
            "Long time no see bro! Ted!\n",
            "kwargs = {}\n"
          ]
        }
      ],
      "execution_count": 1,
      "metadata": {
        "collapsed": false,
        "outputHidden": false,
        "inputHidden": false
      }
    },
    {
      "cell_type": "code",
      "source": [
        "%run c29_dangerous_defaults"
      ],
      "outputs": [
        {
          "output_type": "stream",
          "name": "stdout",
          "text": [
            "['a', 'a', 'a']\n",
            "['a', 'a', 'a', 'b', 'b']\n",
            "['a', 'a', 'a', 'b', 'b', 'd', 'd', 'd', 'd']\n",
            "4375834696 4375834696 True\n",
            "Try again\n",
            "['a', 'a', 'a']\n",
            "['a', 'a', 'a', 'b', 'b']\n",
            "['d', 'd', 'd', 'd']\n",
            "4372684296 4375779400 False\n"
          ]
        }
      ],
      "execution_count": 1,
      "metadata": {
        "collapsed": false,
        "outputHidden": false,
        "inputHidden": false
      }
    },
    {
      "cell_type": "code",
      "source": [
        "%run c30_beware_the_trade_imbalance"
      ],
      "outputs": [
        {
          "output_type": "stream",
          "name": "stdout",
          "text": [
            "Current version: 3\n",
            "/Users/sam/ws/pythonic-code\n",
            "5\n",
            "5\n",
            "17.857142857142858\n",
            "Mode set to ADVANCED\n",
            "None\n"
          ]
        }
      ],
      "execution_count": 1,
      "metadata": {
        "collapsed": false,
        "outputHidden": false,
        "inputHidden": false
      }
    },
    {
      "cell_type": "code",
      "source": [
        "%run c31_what_is___main__"
      ],
      "outputs": [
        {
          "output_type": "stream",
          "name": "stdout",
          "text": [
            "About to import support lib\n",
            "Support library name: c31_what_is___main__support\n",
            "Done importing support lib\n",
            "Main app name: __main__\n",
            "\n",
            "The variable value is A Variable.\n"
          ]
        }
      ],
      "execution_count": 1,
      "metadata": {
        "collapsed": false,
        "outputHidden": false,
        "inputHidden": false
      }
    },
    {
      "cell_type": "code",
      "source": [
        "%run c32_what_do_you_require"
      ],
      "outputs": [
        {
          "output_type": "stream",
          "name": "stdout",
          "text": [
            "200\n"
          ]
        }
      ],
      "execution_count": 3,
      "metadata": {
        "collapsed": false,
        "outputHidden": false,
        "inputHidden": false
      }
    },
    {
      "cell_type": "code",
      "source": [
        "%run c33_built_in_one_place"
      ],
      "outputs": [
        {
          "output_type": "stream",
          "name": "stdout",
          "text": [
            "A pet whose name is betsy and age is 7.\n"
          ]
        }
      ],
      "execution_count": 1,
      "metadata": {
        "collapsed": false,
        "outputHidden": false,
        "inputHidden": false
      }
    },
    {
      "cell_type": "code",
      "source": [
        "%run c34_i_want_my_privacy"
      ],
      "outputs": [
        {
          "output_type": "stream",
          "name": "stdout",
          "text": [
            "Here is my pet snake:\n",
            "Pet: Slide age: 6, protection level: 2\n",
            "['_PetSnake__age', '_PetSnake__name', '__class__', '__delattr__', '__dict__', '__dir__', '__doc__', '__eq__', '__format__', '__ge__', '__getattribute__', '__gt__', '__hash__', '__init__', '__init_subclass__', '__le__', '__lt__', '__module__', '__ne__', '__new__', '__reduce__', '__reduce_ex__', '__repr__', '__setattr__', '__sizeof__', '__str__', '__subclasshook__', '__weakref__', '_protected_val', 'normal']\n",
            "2\n"
          ]
        }
      ],
      "execution_count": 1,
      "metadata": {
        "collapsed": false,
        "outputHidden": false,
        "inputHidden": false
      }
    },
    {
      "cell_type": "code",
      "source": [
        "%run c35_what_properties_define_you"
      ],
      "outputs": [
        {
          "output_type": "stream",
          "name": "stdout",
          "text": [
            "Here is my pet cow:\n",
            "She is named Betsy and 4 years old.\n",
            "\n",
            "Here is my pet snake:\n",
            "---> Getting current age\n",
            "She is named Slide and 6 years old.\n",
            "---> Setting age to 7\n",
            "---> Getting current age\n",
            "She is named Slide and 7 years old.\n",
            "False\n"
          ]
        }
      ],
      "execution_count": 1,
      "metadata": {
        "collapsed": false,
        "outputHidden": false,
        "inputHidden": false
      }
    },
    {
      "cell_type": "code",
      "source": [
        "%run c36_there_is_no_num_for_loop"
      ],
      "outputs": [
        {
          "output_type": "stream",
          "name": "stdout",
          "text": [
            "Now i is 0\n",
            "The value is 1\n",
            "Now i is 1\n",
            "The value is 7\n",
            "Now i is 2\n",
            "The value is 11\n",
            "\n",
            "The value is 1\n",
            "The value is 7\n",
            "The value is 11\n"
          ]
        }
      ],
      "execution_count": 1,
      "metadata": {
        "collapsed": false,
        "outputHidden": false,
        "inputHidden": false
      }
    },
    {
      "cell_type": "code",
      "source": [
        "%run c37_oh_there_are_num_loops_rn"
      ],
      "outputs": [
        {
          "output_type": "stream",
          "name": "stdout",
          "text": [
            "0, 1, 2, 3, 4, 5, 6, 7, 8, 9, \n",
            "range(1, 7)\n"
          ]
        }
      ],
      "execution_count": 1,
      "metadata": {
        "collapsed": false,
        "outputHidden": false,
        "inputHidden": false
      }
    },
    {
      "cell_type": "code",
      "source": [],
      "outputs": [],
      "execution_count": null,
      "metadata": {
        "collapsed": false,
        "outputHidden": false,
        "inputHidden": false
      }
    }
  ],
  "metadata": {
    "kernelspec": {
      "name": "python3",
      "language": "python",
      "display_name": "Python 3"
    },
    "kernel_info": {
      "name": "python3"
    },
    "language_info": {
      "name": "python",
      "version": "3.6.3",
      "mimetype": "text/x-python",
      "codemirror_mode": {
        "name": "ipython",
        "version": 3
      },
      "pygments_lexer": "ipython3",
      "nbconvert_exporter": "python",
      "file_extension": ".py"
    },
    "nteract": {
      "version": "0.3.4"
    }
  },
  "nbformat": 4,
  "nbformat_minor": 4
}