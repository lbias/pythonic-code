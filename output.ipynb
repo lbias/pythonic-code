{
  "cells": [
    {
      "cell_type": "code",
      "source": [
        "%run c28_the_key_to_the_arguments"
      ],
      "outputs": [
        {
          "output_type": "stream",
          "name": "stdout",
          "text": [
            "Hey, you're out of order Michael!\n",
            "kwargs = {'additional': 2, 'mode': 7}\n",
            "\n",
            "Long time no see bro! Ted!\n",
            "Long time no see bro! Ted!\n",
            "Long time no see bro! Ted!\n",
            "Long time no see bro! Ted!\n",
            "Long time no see bro! Ted!\n",
            "Long time no see bro! Ted!\n",
            "kwargs = {}\n"
          ]
        }
      ],
      "execution_count": 1,
      "metadata": {
        "collapsed": false,
        "outputHidden": false,
        "inputHidden": false
      }
    },
    {
      "cell_type": "code",
      "source": [],
      "outputs": [],
      "execution_count": null,
      "metadata": {
        "collapsed": false,
        "outputHidden": false,
        "inputHidden": false
      }
    }
  ],
  "metadata": {
    "kernelspec": {
      "name": "python3",
      "language": "python",
      "display_name": "Python 3"
    },
    "kernel_info": {
      "name": "python3"
    },
    "language_info": {
      "name": "python",
      "version": "3.6.3",
      "mimetype": "text/x-python",
      "codemirror_mode": {
        "name": "ipython",
        "version": 3
      },
      "pygments_lexer": "ipython3",
      "nbconvert_exporter": "python",
      "file_extension": ".py"
    },
    "nteract": {
      "version": "0.3.4"
    }
  },
  "nbformat": 4,
  "nbformat_minor": 4
}