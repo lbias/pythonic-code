{
  "cells": [
    {
      "cell_type": "code",
      "source": [
        "%run c28_the_key_to_the_arguments"
      ],
      "outputs": [
        {
          "output_type": "stream",
          "name": "stdout",
          "text": [
            "Hey, you're out of order Michael!\n",
            "kwargs = {'additional': 2, 'mode': 7}\n",
            "\n",
            "Long time no see bro! Ted!\n",
            "Long time no see bro! Ted!\n",
            "Long time no see bro! Ted!\n",
            "Long time no see bro! Ted!\n",
            "Long time no see bro! Ted!\n",
            "Long time no see bro! Ted!\n",
            "kwargs = {}\n"
          ]
        }
      ],
      "execution_count": 1,
      "metadata": {
        "collapsed": false,
        "outputHidden": false,
        "inputHidden": false
      }
    },
    {
      "cell_type": "code",
      "source": [
        "%run c29_dangerous_defaults"
      ],
      "outputs": [
        {
          "output_type": "stream",
          "name": "stdout",
          "text": [
            "['a', 'a', 'a']\n",
            "['a', 'a', 'a', 'b', 'b']\n",
            "['a', 'a', 'a', 'b', 'b', 'd', 'd', 'd', 'd']\n",
            "4375834696 4375834696 True\n",
            "Try again\n",
            "['a', 'a', 'a']\n",
            "['a', 'a', 'a', 'b', 'b']\n",
            "['d', 'd', 'd', 'd']\n",
            "4372684296 4375779400 False\n"
          ]
        }
      ],
      "execution_count": 1,
      "metadata": {
        "collapsed": false,
        "outputHidden": false,
        "inputHidden": false
      }
    },
    {
      "cell_type": "code",
      "source": [
        "%run c30_beware_the_trade_imbalance"
      ],
      "outputs": [
        {
          "output_type": "stream",
          "name": "stdout",
          "text": [
            "Current version: 3\n",
            "/Users/sam/ws/pythonic-code\n",
            "5\n",
            "5\n",
            "17.857142857142858\n",
            "Mode set to ADVANCED\n",
            "None\n"
          ]
        }
      ],
      "execution_count": 1,
      "metadata": {
        "collapsed": false,
        "outputHidden": false,
        "inputHidden": false
      }
    },
    {
      "cell_type": "code",
      "source": [],
      "outputs": [],
      "execution_count": null,
      "metadata": {
        "collapsed": false,
        "outputHidden": false,
        "inputHidden": false
      }
    }
  ],
  "metadata": {
    "kernelspec": {
      "name": "python3",
      "language": "python",
      "display_name": "Python 3"
    },
    "kernel_info": {
      "name": "python3"
    },
    "language_info": {
      "name": "python",
      "version": "3.6.3",
      "mimetype": "text/x-python",
      "codemirror_mode": {
        "name": "ipython",
        "version": 3
      },
      "pygments_lexer": "ipython3",
      "nbconvert_exporter": "python",
      "file_extension": ".py"
    },
    "nteract": {
      "version": "0.3.4"
    }
  },
  "nbformat": 4,
  "nbformat_minor": 4
}